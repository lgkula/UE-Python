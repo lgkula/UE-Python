{
 "cells": [
  {
   "cell_type": "code",
   "execution_count": 78,
   "id": "c37360a3",
   "metadata": {},
   "outputs": [
    {
     "name": "stdout",
     "output_type": "stream",
     "text": [
      "true\n"
     ]
    }
   ],
   "source": [
    "x = 5.1\n",
    "y = 5.1\n",
    "z = x\n",
    "if(x == y):\n",
    "    print(\"true\")\n",
    "else:\n",
    "    print(\"false\")"
   ]
  },
  {
   "cell_type": "code",
   "execution_count": 79,
   "id": "c56eefe3",
   "metadata": {},
   "outputs": [
    {
     "name": "stdout",
     "output_type": "stream",
     "text": [
      "false\n"
     ]
    }
   ],
   "source": [
    "if(x is y):\n",
    "    print(\"true\")\n",
    "else:\n",
    "    print(\"false\")"
   ]
  },
  {
   "cell_type": "code",
   "execution_count": 80,
   "id": "3654a5fc",
   "metadata": {},
   "outputs": [
    {
     "name": "stdout",
     "output_type": "stream",
     "text": [
      "true\n"
     ]
    }
   ],
   "source": [
    "if(x is z):\n",
    "    print(\"true\")\n",
    "else:\n",
    "    print(\"false\")"
   ]
  },
  {
   "cell_type": "code",
   "execution_count": 84,
   "id": "247c7ea7",
   "metadata": {},
   "outputs": [
    {
     "name": "stdout",
     "output_type": "stream",
     "text": [
      "false\n"
     ]
    }
   ],
   "source": [
    "z = 5.1\n",
    "\n",
    "if(x is z):\n",
    "    print(\"true\")\n",
    "else:\n",
    "    print(\"false\")"
   ]
  },
  {
   "cell_type": "code",
   "execution_count": 88,
   "id": "c830c237",
   "metadata": {},
   "outputs": [
    {
     "name": "stdout",
     "output_type": "stream",
     "text": [
      "true\n"
     ]
    }
   ],
   "source": [
    "list = [1, 2, 3, 4]\n",
    "\n",
    "if(4 in list):\n",
    "    print(\"true\")\n",
    "else:\n",
    "    print(\"false\")"
   ]
  },
  {
   "cell_type": "code",
   "execution_count": 89,
   "id": "5e3e2633",
   "metadata": {},
   "outputs": [
    {
     "name": "stdout",
     "output_type": "stream",
     "text": [
      "false\n"
     ]
    }
   ],
   "source": [
    "list = [1, 2, 3, 4]\n",
    "\n",
    "if(5 in list):\n",
    "    print(\"true\")\n",
    "else:\n",
    "    print(\"false\")"
   ]
  },
  {
   "cell_type": "code",
   "execution_count": 90,
   "id": "eb72ffa2",
   "metadata": {},
   "outputs": [
    {
     "name": "stdout",
     "output_type": "stream",
     "text": [
      "[1, 32, 3, 4, -9, 0, 30243, -4423]\n",
      "[-4423, -9, 0, 1, 3, 4, 32, 30243]\n"
     ]
    }
   ],
   "source": [
    "list = [1, 32, 3, 4, -9, 0, 30243, -4423]\n",
    "print(list)\n",
    "list.sort()\n",
    "print(list)"
   ]
  },
  {
   "cell_type": "code",
   "execution_count": 91,
   "id": "c4692245",
   "metadata": {},
   "outputs": [
    {
     "name": "stdout",
     "output_type": "stream",
     "text": [
      "A\n",
      "s\n",
      "i\n",
      "a\n",
      " \n",
      "n\n",
      "i\n",
      "e\n",
      " \n",
      "m\n",
      "a\n",
      " \n",
      "k\n",
      "o\n",
      "t\n",
      "a\n"
     ]
    }
   ],
   "source": [
    "tekst = \"Asia nie ma kota\"\n",
    "\n",
    "for i in tekst:\n",
    "    print(i)"
   ]
  },
  {
   "cell_type": "code",
   "execution_count": null,
   "id": "fa07ff63",
   "metadata": {},
   "outputs": [],
   "source": [
    "for i in tekst:\n",
    "    print(i)"
   ]
  },
  {
   "cell_type": "code",
   "execution_count": null,
   "id": "b911eb57",
   "metadata": {},
   "outputs": [],
   "source": [
    "for i in tekst:\n",
    "    print(i)\n",
    "    "
   ]
  },
  {
   "cell_type": "code",
   "execution_count": 3,
   "id": "0bf637bc",
   "metadata": {},
   "outputs": [
    {
     "name": "stdout",
     "output_type": "stream",
     "text": [
      "-4\n",
      "1\n",
      "7\n"
     ]
    }
   ],
   "source": [
    "list = [1,4,-4,7]\n",
    "list.sort()\n",
    "print(list[0])\n",
    "print(list[1])\n",
    "print(list[-1])"
   ]
  },
  {
   "cell_type": "code",
   "execution_count": 4,
   "id": "7cf83548",
   "metadata": {},
   "outputs": [
    {
     "name": "stdout",
     "output_type": "stream",
     "text": [
      "[-4, 1, 4, 7]\n",
      "-4\n",
      "1\n",
      "7\n"
     ]
    }
   ],
   "source": [
    "list = [1,4,-4,7]\n",
    "list.sort()\n",
    "print (list)\n",
    "print(list[0])\n",
    "print(list[1])\n",
    "print(list[-1])"
   ]
  },
  {
   "cell_type": "code",
   "execution_count": 10,
   "id": "7cf395cd",
   "metadata": {},
   "outputs": [
    {
     "name": "stdout",
     "output_type": "stream",
     "text": [
      "3\n"
     ]
    }
   ],
   "source": [
    "y=0\n",
    "tekst = \"Ala ma kota.\"\n",
    "for i in tekst:\n",
    "    if (i==\" \" or i==\".\"):\n",
    "        y += 1\n",
    "print (y)"
   ]
  },
  {
   "cell_type": "code",
   "execution_count": 19,
   "id": "099430d7",
   "metadata": {},
   "outputs": [
    {
     "name": "stdout",
     "output_type": "stream",
     "text": [
      "9\n"
     ]
    }
   ],
   "source": [
    "j=0\n",
    "tekst = \"Ala ma kota.\"\n",
    "for i in tekst:\n",
    "    if (i != \" \" and i != \".\"):\n",
    "        j = j + 1\n",
    "print (j)"
   ]
  },
  {
   "cell_type": "code",
   "execution_count": 32,
   "id": "2574bfe7",
   "metadata": {},
   "outputs": [
    {
     "name": "stdout",
     "output_type": "stream",
     "text": [
      "liter a jest:  3\n",
      "liter l jest:  1\n",
      "liter m jest:  1\n",
      "liter k jest:  1\n",
      "liter t jest:  1\n"
     ]
    }
   ],
   "source": [
    "a=0; \n",
    "l=0; \n",
    "m=0; \n",
    "k=0; \n",
    "t=0;\n",
    "tekst = \"Ala ma kota.\"\n",
    "for i in tekst:\n",
    "    if (i == \"a\"):\n",
    "        a += 1\n",
    "    elif (i == \"l\"):\n",
    "        l += 1\n",
    "    elif (i == \"m\"):\n",
    "        m += 1\n",
    "    elif (i == \"k\"):\n",
    "        k += 1\n",
    "    elif (i == \"t\"):\n",
    "        t += 1\n",
    "print (\"liter a jest: \" , a)\n",
    "print (\"liter l jest: \" , l)\n",
    "print (\"liter m jest: \" , m)\n",
    "print (\"liter k jest: \" , k)\n",
    "print (\"liter t jest: \" , t)"
   ]
  },
  {
   "cell_type": "code",
   "execution_count": null,
   "id": "ca79a086",
   "metadata": {},
   "outputs": [],
   "source": []
  }
 ],
 "metadata": {
  "kernelspec": {
   "display_name": "Python 3",
   "language": "python",
   "name": "python3"
  },
  "language_info": {
   "codemirror_mode": {
    "name": "ipython",
    "version": 3
   },
   "file_extension": ".py",
   "mimetype": "text/x-python",
   "name": "python",
   "nbconvert_exporter": "python",
   "pygments_lexer": "ipython3",
   "version": "3.8.8"
  }
 },
 "nbformat": 4,
 "nbformat_minor": 5
}
