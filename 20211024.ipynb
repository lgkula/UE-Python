{
 "cells": [
  {
   "cell_type": "code",
   "execution_count": 22,
   "id": "ec359274",
   "metadata": {},
   "outputs": [],
   "source": [
    "def obliczSilnie(liczba):\n",
    "\n",
    "    if(liczba < 0):\n",
    "\n",
    "        print('Podaj poprawną liczbę!')\n",
    "\n",
    "        return 'Argument musi być liczbą nieujemną'\n",
    "\n",
    "    silnia = 1\n",
    "\n",
    "    for element in range(liczba):\n",
    "\n",
    "        silnia *= (element + 1)\n",
    "\n",
    "    return silnia"
   ]
  },
  {
   "cell_type": "code",
   "execution_count": null,
   "id": "415d68e9",
   "metadata": {},
   "outputs": [],
   "source": []
  },
  {
   "cell_type": "code",
   "execution_count": null,
   "id": "6f91296e",
   "metadata": {},
   "outputs": [],
   "source": []
  },
  {
   "cell_type": "code",
   "execution_count": 23,
   "id": "d34d8953",
   "metadata": {},
   "outputs": [
    {
     "data": {
      "text/plain": [
       "1"
      ]
     },
     "execution_count": 23,
     "metadata": {},
     "output_type": "execute_result"
    }
   ],
   "source": [
    "obliczSilnie(0)"
   ]
  },
  {
   "cell_type": "code",
   "execution_count": 24,
   "id": "233aa4ec",
   "metadata": {},
   "outputs": [
    {
     "data": {
      "text/plain": [
       "1"
      ]
     },
     "execution_count": 24,
     "metadata": {},
     "output_type": "execute_result"
    }
   ],
   "source": [
    "obliczSilnie(0)"
   ]
  },
  {
   "cell_type": "code",
   "execution_count": 34,
   "id": "326f6685",
   "metadata": {},
   "outputs": [
    {
     "name": "stdout",
     "output_type": "stream",
     "text": [
      "Podaj poprawną liczbę!\n"
     ]
    },
    {
     "data": {
      "text/plain": [
       "'Argument musi być liczbą nieujemną'"
      ]
     },
     "execution_count": 34,
     "metadata": {},
     "output_type": "execute_result"
    }
   ],
   "source": [
    "obliczSilnie(-1)"
   ]
  },
  {
   "cell_type": "code",
   "execution_count": 29,
   "id": "ff735bba",
   "metadata": {},
   "outputs": [
    {
     "name": "stdout",
     "output_type": "stream",
     "text": [
      "Podaj poprawną liczbę!\n"
     ]
    },
    {
     "data": {
      "text/plain": [
       "'Argument musi być liczbą nieujemną'"
      ]
     },
     "execution_count": 29,
     "metadata": {},
     "output_type": "execute_result"
    }
   ],
   "source": [
    "obliczSilnie(-2)"
   ]
  },
  {
   "cell_type": "code",
   "execution_count": null,
   "id": "186cfb5b",
   "metadata": {},
   "outputs": [],
   "source": []
  },
  {
   "cell_type": "code",
   "execution_count": 32,
   "id": "213577db",
   "metadata": {},
   "outputs": [
    {
     "ename": "TypeError",
     "evalue": "'float' object cannot be interpreted as an integer",
     "output_type": "error",
     "traceback": [
      "\u001b[1;31m---------------------------------------------------------------------------\u001b[0m",
      "\u001b[1;31mTypeError\u001b[0m                                 Traceback (most recent call last)",
      "\u001b[1;32m<ipython-input-32-9366c8aa5dbc>\u001b[0m in \u001b[0;36m<module>\u001b[1;34m\u001b[0m\n\u001b[1;32m----> 1\u001b[1;33m \u001b[0mobliczSilnie\u001b[0m\u001b[1;33m(\u001b[0m\u001b[1;36m1.5\u001b[0m\u001b[1;33m)\u001b[0m\u001b[1;33m\u001b[0m\u001b[1;33m\u001b[0m\u001b[0m\n\u001b[0m",
      "\u001b[1;32m<ipython-input-28-fefb5b21b779>\u001b[0m in \u001b[0;36mobliczSilnie\u001b[1;34m(liczba)\u001b[0m\n\u001b[0;32m      9\u001b[0m     \u001b[0msilnia\u001b[0m \u001b[1;33m=\u001b[0m \u001b[1;36m1\u001b[0m\u001b[1;33m\u001b[0m\u001b[1;33m\u001b[0m\u001b[0m\n\u001b[0;32m     10\u001b[0m \u001b[1;33m\u001b[0m\u001b[0m\n\u001b[1;32m---> 11\u001b[1;33m     \u001b[1;32mfor\u001b[0m \u001b[0melement\u001b[0m \u001b[1;32min\u001b[0m \u001b[0mrange\u001b[0m\u001b[1;33m(\u001b[0m\u001b[0mliczba\u001b[0m\u001b[1;33m)\u001b[0m\u001b[1;33m:\u001b[0m\u001b[1;33m\u001b[0m\u001b[1;33m\u001b[0m\u001b[0m\n\u001b[0m\u001b[0;32m     12\u001b[0m \u001b[1;33m\u001b[0m\u001b[0m\n\u001b[0;32m     13\u001b[0m         \u001b[0msilnia\u001b[0m \u001b[1;33m*=\u001b[0m \u001b[1;33m(\u001b[0m\u001b[0melement\u001b[0m \u001b[1;33m+\u001b[0m \u001b[1;36m1\u001b[0m\u001b[1;33m)\u001b[0m\u001b[1;33m\u001b[0m\u001b[1;33m\u001b[0m\u001b[0m\n",
      "\u001b[1;31mTypeError\u001b[0m: 'float' object cannot be interpreted as an integer"
     ]
    }
   ],
   "source": [
    "obliczSilnie(1.5)"
   ]
  },
  {
   "cell_type": "code",
   "execution_count": 38,
   "id": "52595969",
   "metadata": {},
   "outputs": [
    {
     "data": {
      "text/plain": [
       "False"
      ]
     },
     "execution_count": 38,
     "metadata": {},
     "output_type": "execute_result"
    }
   ],
   "source": [
    "0.3 == 0.1+0.2"
   ]
  },
  {
   "cell_type": "code",
   "execution_count": 39,
   "id": "255058f7",
   "metadata": {},
   "outputs": [
    {
     "data": {
      "text/plain": [
       "0.02"
      ]
     },
     "execution_count": 39,
     "metadata": {},
     "output_type": "execute_result"
    }
   ],
   "source": [
    "2*10**-2"
   ]
  },
  {
   "cell_type": "code",
   "execution_count": 40,
   "id": "1d5cb1da",
   "metadata": {},
   "outputs": [
    {
     "data": {
      "text/plain": [
       "True"
      ]
     },
     "execution_count": 40,
     "metadata": {},
     "output_type": "execute_result"
    }
   ],
   "source": [
    "x=1\n",
    "y=1\n",
    "x==y"
   ]
  },
  {
   "cell_type": "code",
   "execution_count": 1,
   "id": "1fd8775f",
   "metadata": {},
   "outputs": [],
   "source": [
    "message = \"what do you like?\"\n",
    "response = 'spam '\n",
    "text = \"Ryszard's lecture\""
   ]
  },
  {
   "cell_type": "code",
   "execution_count": 2,
   "id": "fdcf8cc6",
   "metadata": {},
   "outputs": [
    {
     "data": {
      "text/plain": [
       "'What do you like?'"
      ]
     },
     "execution_count": 2,
     "metadata": {},
     "output_type": "execute_result"
    }
   ],
   "source": [
    "message.capitalize()"
   ]
  },
  {
   "cell_type": "code",
   "execution_count": 3,
   "id": "e9702c49",
   "metadata": {},
   "outputs": [
    {
     "data": {
      "text/plain": [
       "'what do you like?spam '"
      ]
     },
     "execution_count": 3,
     "metadata": {},
     "output_type": "execute_result"
    }
   ],
   "source": [
    "message + response"
   ]
  },
  {
   "cell_type": "code",
   "execution_count": 10,
   "id": "737db133",
   "metadata": {},
   "outputs": [],
   "source": [
    "L=[0, 2, 3, 5, 7, 1]"
   ]
  },
  {
   "cell_type": "code",
   "execution_count": 8,
   "id": "118e4a43",
   "metadata": {},
   "outputs": [
    {
     "ename": "TypeError",
     "evalue": "append() takes exactly one argument (3 given)",
     "output_type": "error",
     "traceback": [
      "\u001b[1;31m---------------------------------------------------------------------------\u001b[0m",
      "\u001b[1;31mTypeError\u001b[0m                                 Traceback (most recent call last)",
      "\u001b[1;32m<ipython-input-8-824045770155>\u001b[0m in \u001b[0;36m<module>\u001b[1;34m\u001b[0m\n\u001b[1;32m----> 1\u001b[1;33m \u001b[0mL\u001b[0m\u001b[1;33m.\u001b[0m\u001b[0mappend\u001b[0m\u001b[1;33m(\u001b[0m\u001b[1;36m13\u001b[0m\u001b[1;33m,\u001b[0m\u001b[1;36m17\u001b[0m\u001b[1;33m,\u001b[0m\u001b[1;36m19\u001b[0m\u001b[1;33m)\u001b[0m\u001b[1;33m\u001b[0m\u001b[1;33m\u001b[0m\u001b[0m\n\u001b[0m\u001b[0;32m      2\u001b[0m \u001b[0mprint\u001b[0m\u001b[1;33m(\u001b[0m\u001b[0mL\u001b[0m\u001b[1;33m)\u001b[0m\u001b[1;33m\u001b[0m\u001b[1;33m\u001b[0m\u001b[0m\n",
      "\u001b[1;31mTypeError\u001b[0m: append() takes exactly one argument (3 given)"
     ]
    }
   ],
   "source": [
    "L.append(13,17,19)\n",
    "print(L)"
   ]
  },
  {
   "cell_type": "code",
   "execution_count": 6,
   "id": "2690cfb5",
   "metadata": {},
   "outputs": [
    {
     "name": "stdout",
     "output_type": "stream",
     "text": [
      "[0, 2, 3, 5, 7, 1, [13, 17, 19]]\n"
     ]
    }
   ],
   "source": [
    "print(L)"
   ]
  },
  {
   "cell_type": "code",
   "execution_count": 9,
   "id": "e46ea6cc",
   "metadata": {},
   "outputs": [
    {
     "data": {
      "text/plain": [
       "[0, 2, 3, 5, 7, 1, 13]"
      ]
     },
     "execution_count": 9,
     "metadata": {},
     "output_type": "execute_result"
    }
   ],
   "source": [
    "L+[13]"
   ]
  },
  {
   "cell_type": "code",
   "execution_count": 11,
   "id": "693ced1a",
   "metadata": {},
   "outputs": [
    {
     "data": {
      "text/plain": [
       "3"
      ]
     },
     "execution_count": 11,
     "metadata": {},
     "output_type": "execute_result"
    }
   ],
   "source": [
    "L.index(5)"
   ]
  },
  {
   "cell_type": "code",
   "execution_count": 12,
   "id": "cebe50cd",
   "metadata": {},
   "outputs": [
    {
     "name": "stdout",
     "output_type": "stream",
     "text": [
      "3\n"
     ]
    }
   ],
   "source": [
    "print(L.index(5))"
   ]
  },
  {
   "cell_type": "code",
   "execution_count": 16,
   "id": "ee1281cd",
   "metadata": {},
   "outputs": [
    {
     "name": "stdout",
     "output_type": "stream",
     "text": [
      "[0, 2, 2, 3, 5, 7, 1, 2]\n"
     ]
    }
   ],
   "source": [
    "L=[0, 2, 2, 3, 5, 7, 1, 2]\n",
    "print(L)"
   ]
  },
  {
   "cell_type": "code",
   "execution_count": 17,
   "id": "dd2f3c10",
   "metadata": {},
   "outputs": [
    {
     "name": "stdout",
     "output_type": "stream",
     "text": [
      "[0, 2, 3, 5, 7, 1, 2]\n"
     ]
    }
   ],
   "source": [
    "L.remove(2)\n",
    "print(L)"
   ]
  },
  {
   "cell_type": "code",
   "execution_count": 21,
   "id": "6a76113d",
   "metadata": {},
   "outputs": [
    {
     "ename": "IndentationError",
     "evalue": "unindent does not match any outer indentation level (<tokenize>, line 5)",
     "output_type": "error",
     "traceback": [
      "\u001b[1;36m  File \u001b[1;32m\"<tokenize>\"\u001b[1;36m, line \u001b[1;32m5\u001b[0m\n\u001b[1;33m    silnia = 1\u001b[0m\n\u001b[1;37m    ^\u001b[0m\n\u001b[1;31mIndentationError\u001b[0m\u001b[1;31m:\u001b[0m unindent does not match any outer indentation level\n"
     ]
    }
   ],
   "source": [
    "def obliczSilnie(liczba):\n",
    "if(liczba < 0):\n",
    "        print(‘Podaj poprawną liczbę!’)\n",
    "        return ‘Argument musi być liczbą nieujemną.’\n",
    "    silnia = 1\n",
    "    for element in range(liczba):\n",
    "        silnia *= (element + 1)\n",
    "    return silnia"
   ]
  },
  {
   "cell_type": "code",
   "execution_count": 27,
   "id": "be7e27e4",
   "metadata": {},
   "outputs": [],
   "source": [
    "def obliczSilnie(liczba):\n",
    "    if(liczba < 0):\n",
    "        print('Podaj poprawną liczbę!')\n",
    "        return 'Argument musi być liczbą nieujemną'\n",
    "    silnia = 1\n",
    "    for element in range(liczba):\n",
    "        silnia *= (element + 1)\n",
    "    return silnia"
   ]
  },
  {
   "cell_type": "code",
   "execution_count": 28,
   "id": "5b697a71",
   "metadata": {},
   "outputs": [
    {
     "name": "stdout",
     "output_type": "stream",
     "text": [
      "Podaj poprawną liczbę!\n"
     ]
    },
    {
     "data": {
      "text/plain": [
       "'Argument musi być liczbą nieujemną'"
      ]
     },
     "execution_count": 28,
     "metadata": {},
     "output_type": "execute_result"
    }
   ],
   "source": [
    "obliczSilnie(-1)"
   ]
  },
  {
   "cell_type": "code",
   "execution_count": 31,
   "id": "aab1bd5f",
   "metadata": {},
   "outputs": [
    {
     "data": {
      "text/plain": [
       "1"
      ]
     },
     "execution_count": 31,
     "metadata": {},
     "output_type": "execute_result"
    }
   ],
   "source": [
    "obliczSilnie(0)"
   ]
  },
  {
   "cell_type": "code",
   "execution_count": null,
   "id": "7bdac2cd",
   "metadata": {},
   "outputs": [],
   "source": []
  }
 ],
 "metadata": {
  "kernelspec": {
   "display_name": "Python 3",
   "language": "python",
   "name": "python3"
  },
  "language_info": {
   "codemirror_mode": {
    "name": "ipython",
    "version": 3
   },
   "file_extension": ".py",
   "mimetype": "text/x-python",
   "name": "python",
   "nbconvert_exporter": "python",
   "pygments_lexer": "ipython3",
   "version": "3.8.8"
  }
 },
 "nbformat": 4,
 "nbformat_minor": 5
}
